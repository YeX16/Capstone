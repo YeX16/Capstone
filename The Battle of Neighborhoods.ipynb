{
 "cells": [
  {
   "cell_type": "markdown",
   "metadata": {},
   "source": [
    "# The Battle of Neighborhoods (Week 1)"
   ]
  },
  {
   "cell_type": "markdown",
   "metadata": {},
   "source": [
    "## 1. Introduction Section :\n",
    "Discussion of the business problem and the audience who would be interested in this project.\n",
    "Description of the Problem and Background\n",
    "\n",
    "Newly moved to Shanghai, would like to check out where is the best place for weekends activities.\n",
    "\n",
    "where there are many choices of restaurants, cinemas, coffee shops or bars and shopping possibilities\n",
    "shops should include cosmetic and high fashion shops\n",
    "possibilities to go clubbing in the night\n",
    "have metro station nearby\n",
    "\n",
    "## Business Problem:\n",
    "The task is to find a suitable neighborhood for fun in Shanghai. The data required to resolve this challenge is described in the following section 2, below.\n",
    "\n",
    "## Interested Audience\n",
    "This is an interesting task to analyze especially for anyone newly moving to Shanghai. In a same way, we can also explore other big cities as well. This case is also applicable for anyone interested in finding a new office area. \n",
    "\n",
    "## Data\n",
    "Description of the Data:¶\n",
    "List of neighborhoods of Shanghai with their geodata (latitud and longitud)\n",
    "Venues for each Shanghai neighborhood (then can be clustered for restaurants, bars, cinemas etc.)\n",
    "location of nearby subway metro stations, as needed\n",
    "\n",
    "The data will be used as follows:\n",
    "Use Foursquare and geopy data to map top 10 venues for all neighborhoods and clustered in groups\n",
    "Use foursquare and geopy data to map the location of subway metro stations\n",
    "\n",
    "These Data will answer the key questions to make a decision:\n",
    "which neighborhoods contain all requirements (restaurant, bar, cinema, shops and clubs)? and find out which metro stations are nearby?"
   ]
  }
 ],
 "metadata": {
  "kernelspec": {
   "display_name": "Python 3",
   "language": "python",
   "name": "python3"
  },
  "language_info": {
   "codemirror_mode": {
    "name": "ipython",
    "version": 3
   },
   "file_extension": ".py",
   "mimetype": "text/x-python",
   "name": "python",
   "nbconvert_exporter": "python",
   "pygments_lexer": "ipython3",
   "version": "3.7.4"
  }
 },
 "nbformat": 4,
 "nbformat_minor": 4
}
